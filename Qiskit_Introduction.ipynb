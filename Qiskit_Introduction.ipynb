{
 "cells": [
  {
   "cell_type": "markdown",
   "id": "twenty-gabriel",
   "metadata": {},
   "source": [
    "## Introduction\n",
    "\n",
    "In this notebook, we're going to see how to build a circuit in qiskit and then run it on both a simulator and a real device.\n",
    "\n",
    "The first thing we need to do is import qiskit and make sure its working."
   ]
  },
  {
   "cell_type": "code",
   "execution_count": null,
   "id": "agreed-recovery",
   "metadata": {},
   "outputs": [],
   "source": [
    "from qiskit import QuantumCircuit"
   ]
  },
  {
   "cell_type": "markdown",
   "id": "hungry-license",
   "metadata": {},
   "source": [
    "If that runs without errors, then everything's good!\n",
    "\n",
    "Next we'll create a QuantumCircuit object. When doing so, we have to specify how many qubits the circuit should have. \n",
    "\n",
    "We'll begin with a single qubit circuit and we'll call the object 'qc' for short"
   ]
  },
  {
   "cell_type": "code",
   "execution_count": null,
   "id": "critical-telling",
   "metadata": {},
   "outputs": [],
   "source": [
    "qc = QuantumCircuit(1) # creates a QuantumCircuit object with 1 object"
   ]
  },
  {
   "cell_type": "markdown",
   "id": "comfortable-fluid",
   "metadata": {},
   "source": [
    "### Experiment 1 - measuring a superposition\n",
    "\n",
    "The first thing we'll do is prepare and measure a plus state (just because we can ;) )\n",
    "\n",
    "To do that, we need to apply a Hadamard gate to our circuit and then measure it. In qiskit, we can apply a Hadamard gate with the $h(i)$ function where $i$ is which qubit we're applying the gate on. (NB: **indexing starts at 0**) "
   ]
  },
  {
   "cell_type": "code",
   "execution_count": null,
   "id": "swedish-royal",
   "metadata": {},
   "outputs": [],
   "source": [
    "qc.h(0) #applies H gate to first (and only) qubit\n",
    "\n",
    "qc.measure_all() # measures all (only) qubits"
   ]
  },
  {
   "cell_type": "markdown",
   "id": "limited-inspection",
   "metadata": {},
   "source": [
    "To see what our circuit looks like, we can do .draw() or .draw(output='mpl') to make it look nicer"
   ]
  },
  {
   "cell_type": "code",
   "execution_count": null,
   "id": "controlled-album",
   "metadata": {},
   "outputs": [],
   "source": [
    "#qc.draw()\n",
    "qc.draw(output='mpl')"
   ]
  },
  {
   "cell_type": "markdown",
   "id": "polish-disney",
   "metadata": {},
   "source": [
    "Looks good!\n",
    "\n",
    "Now, we need to set up some things so that we can run our circuit. First, we'll use a simulator called qasm_simulator which we can load in from a qiskit module called Aer"
   ]
  },
  {
   "cell_type": "code",
   "execution_count": null,
   "id": "involved-calendar",
   "metadata": {},
   "outputs": [],
   "source": [
    "from qiskit import Aer, execute #import stuff\n",
    "\n",
    "backend = Aer.get_backend(\"qasm_simulator\") # Tell Aer which simulator we want\n",
    "\n",
    "job = execute(qc, backend, shots=1024) #run the circuit qc on the specified backend 1024 times\n",
    "print(job.status())"
   ]
  },
  {
   "cell_type": "markdown",
   "id": "limiting-buying",
   "metadata": {},
   "source": [
    "Then we can check our results:"
   ]
  },
  {
   "cell_type": "code",
   "execution_count": null,
   "id": "pursuant-economy",
   "metadata": {},
   "outputs": [],
   "source": [
    "results = job.result().get_counts()\n",
    "print(results)"
   ]
  },
  {
   "cell_type": "markdown",
   "id": "hazardous-basin",
   "metadata": {},
   "source": [
    "Notice that the numbers aren't identical, because of random fluctuations. To see the rough proportions we can plot a histogram of these results"
   ]
  },
  {
   "cell_type": "code",
   "execution_count": null,
   "id": "genuine-status",
   "metadata": {},
   "outputs": [],
   "source": [
    "from qiskit.visualization import plot_histogram\n",
    "plot_histogram(results)"
   ]
  },
  {
   "cell_type": "markdown",
   "id": "communist-design",
   "metadata": {},
   "source": [
    "Cool! Now let's run it on a **real** quantum computer. The first step for that is to link your computer with your IBM account. Go to https://quantum-computing.ibm.com/, login and find where it says API token. Then copy the token to your clipboard, uncomment the line and paste it in"
   ]
  },
  {
   "cell_type": "code",
   "execution_count": null,
   "id": "possible-trace",
   "metadata": {},
   "outputs": [],
   "source": [
    "from qiskit import IBMQ\n",
    "\n",
    "#IBMQ.save_account(\"INSERT TOKEN HERE\") #remove the first '#' to run this line with your token. You only need to do this once in your life\n",
    "\n",
    "provider = IBMQ.load_account() #gets your details from IBM\n",
    "print(provider.backends()) #gets a list of devices you're allowed to use"
   ]
  },
  {
   "cell_type": "markdown",
   "id": "occupational-hepatitis",
   "metadata": {},
   "source": [
    "Now we just choose one of these as our backend and execute as we did before"
   ]
  },
  {
   "cell_type": "code",
   "execution_count": null,
   "id": "powerful-devices",
   "metadata": {},
   "outputs": [],
   "source": [
    "backend = provider.get_backend(\"ibmq_lima\")\n",
    "\n",
    "job = execute(qc, backend, shots=1024) #run the circuit qc on the specified backend 1024 times"
   ]
  },
  {
   "cell_type": "code",
   "execution_count": null,
   "id": "renewable-testament",
   "metadata": {},
   "outputs": [],
   "source": [
    "results = job.result().get_counts()\n",
    "plot_histogram(results)"
   ]
  },
  {
   "cell_type": "markdown",
   "id": "saving-skill",
   "metadata": {},
   "source": [
    "### Experiment 2 - interference\n",
    "\n",
    "Consider the following circuit"
   ]
  },
  {
   "cell_type": "code",
   "execution_count": null,
   "id": "exact-anniversary",
   "metadata": {},
   "outputs": [],
   "source": [
    "qc2 = QuantumCircuit(1)\n",
    "qc2.x(0)\n",
    "qc2.h(0)\n",
    "qc2.draw(output='mpl')"
   ]
  },
  {
   "cell_type": "markdown",
   "id": "prime-controversy",
   "metadata": {},
   "source": [
    "- What do you expect when you measure it?\n",
    "- What state does it produce?\n",
    "- How is qc2 different to qc? How might we distinguish them?\n",
    "\n",
    "We now know how to answer the first question, so lets see! We'll go back to the simulator since its a bit quicker"
   ]
  },
  {
   "cell_type": "code",
   "execution_count": null,
   "id": "verified-hello",
   "metadata": {},
   "outputs": [],
   "source": [
    "backend = Aer.get_backend(\"qasm_simulator\")\n",
    "result = execute(qc, backend, shots=1024).result()\n",
    "plot_histogram(result.get_counts())"
   ]
  },
  {
   "cell_type": "markdown",
   "id": "electronic-slovenia",
   "metadata": {},
   "source": [
    "Looks a bit familiar...\n",
    "\n",
    "Let's investigate the differences more closely."
   ]
  },
  {
   "cell_type": "markdown",
   "id": "amateur-private",
   "metadata": {},
   "source": [
    "\n",
    "First, we'll create a new circuit with 2 qubits, one in the |+> state and one in the |-> state.\n",
    "\n",
    "Recall $\\newcommand{\\ket}[1]{|#1\\rangle} \\ket{+} = \\frac{\\ket{0} + \\ket{1}}{\\sqrt{2}}, \\ket{-} = \\frac{\\ket{0} - \\ket{1}}{\\sqrt{2}}$"
   ]
  },
  {
   "cell_type": "code",
   "execution_count": null,
   "id": "sharing-citizenship",
   "metadata": {},
   "outputs": [],
   "source": [
    "qc3 = QuantumCircuit(2) # make a circuit with 2 qubits\n",
    "\n",
    "qc3.h(0) # prepare |+> state in first qubit\n",
    "\n",
    "qc3.x(1)\n",
    "qc3.h(1) # prepare |-> state in second qubit\n",
    "\n",
    "qc3.barrier() #inserts a barrier in our circuit for convenience\n",
    "\n",
    "qc3.draw(output='mpl')"
   ]
  },
  {
   "cell_type": "markdown",
   "id": "reflected-bikini",
   "metadata": {},
   "source": [
    "Then, we can use interference to 'cancel out' the superpositions:"
   ]
  },
  {
   "cell_type": "code",
   "execution_count": null,
   "id": "stable-latest",
   "metadata": {},
   "outputs": [],
   "source": [
    "qc3.h(0)\n",
    "qc3.h(1)\n",
    "\n",
    "qc3.measure_all()\n",
    "\n",
    "qc3.draw(output='mpl')"
   ]
  },
  {
   "cell_type": "markdown",
   "id": "consolidated-departure",
   "metadata": {},
   "source": [
    "And see what happens:"
   ]
  },
  {
   "cell_type": "code",
   "execution_count": null,
   "id": "alleged-production",
   "metadata": {},
   "outputs": [],
   "source": [
    "result = execute(qc3, backend, shots=1024).result()\n",
    "plot_histogram(result.get_counts())"
   ]
  },
  {
   "cell_type": "markdown",
   "id": "secret-payday",
   "metadata": {},
   "source": [
    "We measure '10' deterministically. This means that the bottom qubit is 1 every time and the top qubit is 0 every time. It also means there is a difference between |+> and |->, since we can distinguish them with an H gate!\n",
    "\n",
    "Finally, let's just make sure we get the same results with a real device. "
   ]
  },
  {
   "cell_type": "code",
   "execution_count": null,
   "id": "decreased-deputy",
   "metadata": {},
   "outputs": [],
   "source": [
    "backend = provider.get_backend(\"ibmq_lima\")\n",
    "print(\"running...\")\n",
    "result = execute(qc3, backend, shots=1024).result()\n",
    "print(\"done\")\n",
    "plot_histogram(result.get_counts())"
   ]
  },
  {
   "cell_type": "markdown",
   "id": "scheduled-albania",
   "metadata": {},
   "source": [
    "We get '10' almost all the time, but not quite. This is because real quantum computers still aren't perfect and they can cause errors. So occasionally, we don't get the results we should. "
   ]
  }
 ],
 "metadata": {
  "kernelspec": {
   "display_name": "Python 3",
   "language": "python",
   "name": "python3"
  },
  "language_info": {
   "codemirror_mode": {
    "name": "ipython",
    "version": 3
   },
   "file_extension": ".py",
   "mimetype": "text/x-python",
   "name": "python",
   "nbconvert_exporter": "python",
   "pygments_lexer": "ipython3",
   "version": "3.8.5"
  }
 },
 "nbformat": 4,
 "nbformat_minor": 5
}
